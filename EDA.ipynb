{
 "cells": [
  {
   "cell_type": "markdown",
   "metadata": {},
   "source": [
    "### Importing Libraries"
   ]
  },
  {
   "cell_type": "code",
   "execution_count": 2,
   "metadata": {},
   "outputs": [],
   "source": [
    "import numpy as np\n",
    "import pandas as pd\n",
    "import seaborn as sns\n",
    "import matplotlib.pyplot as plt\n",
    "%matplotlib inline\n",
    "\n",
    "#Scipy library\n",
    "from scipy.stats import norm\n",
    "from scipy import stats"
   ]
  },
  {
   "cell_type": "markdown",
   "metadata": {},
   "source": [
    "### Loading Data"
   ]
  },
  {
   "cell_type": "code",
   "execution_count": 3,
   "metadata": {},
   "outputs": [],
   "source": [
    "train = pd.read_csv('Datasets/train_data.csv')\n",
    "test =  pd.read_csv('Datasets/test_data.csv')\n",
    "sample =  pd.read_csv('Datasets/sample_solution.csv')"
   ]
  },
  {
   "cell_type": "code",
   "execution_count": 4,
   "metadata": {},
   "outputs": [
    {
     "data": {
      "text/html": [
       "<div>\n",
       "<style scoped>\n",
       "    .dataframe tbody tr th:only-of-type {\n",
       "        vertical-align: middle;\n",
       "    }\n",
       "\n",
       "    .dataframe tbody tr th {\n",
       "        vertical-align: top;\n",
       "    }\n",
       "\n",
       "    .dataframe thead th {\n",
       "        text-align: right;\n",
       "    }\n",
       "</style>\n",
       "<table border=\"1\" class=\"dataframe\">\n",
       "  <thead>\n",
       "    <tr style=\"text-align: right;\">\n",
       "      <th></th>\n",
       "      <th>index</th>\n",
       "      <th>lat</th>\n",
       "      <th>lon</th>\n",
       "      <th>startdate</th>\n",
       "      <th>contest-pevpr-sfc-gauss-14d__pevpr</th>\n",
       "      <th>nmme0-tmp2m-34w__cancm30</th>\n",
       "      <th>nmme0-tmp2m-34w__cancm40</th>\n",
       "      <th>nmme0-tmp2m-34w__ccsm30</th>\n",
       "      <th>nmme0-tmp2m-34w__ccsm40</th>\n",
       "      <th>nmme0-tmp2m-34w__cfsv20</th>\n",
       "      <th>...</th>\n",
       "      <th>wind-vwnd-925-2010-11</th>\n",
       "      <th>wind-vwnd-925-2010-12</th>\n",
       "      <th>wind-vwnd-925-2010-13</th>\n",
       "      <th>wind-vwnd-925-2010-14</th>\n",
       "      <th>wind-vwnd-925-2010-15</th>\n",
       "      <th>wind-vwnd-925-2010-16</th>\n",
       "      <th>wind-vwnd-925-2010-17</th>\n",
       "      <th>wind-vwnd-925-2010-18</th>\n",
       "      <th>wind-vwnd-925-2010-19</th>\n",
       "      <th>wind-vwnd-925-2010-20</th>\n",
       "    </tr>\n",
       "  </thead>\n",
       "  <tbody>\n",
       "    <tr>\n",
       "      <th>0</th>\n",
       "      <td>0</td>\n",
       "      <td>0.0</td>\n",
       "      <td>0.833333</td>\n",
       "      <td>9/1/14</td>\n",
       "      <td>237.00</td>\n",
       "      <td>29.02</td>\n",
       "      <td>31.64</td>\n",
       "      <td>29.57</td>\n",
       "      <td>30.73</td>\n",
       "      <td>29.71</td>\n",
       "      <td>...</td>\n",
       "      <td>-27.68</td>\n",
       "      <td>-37.21</td>\n",
       "      <td>8.32</td>\n",
       "      <td>9.56</td>\n",
       "      <td>-2.03</td>\n",
       "      <td>48.13</td>\n",
       "      <td>28.09</td>\n",
       "      <td>-13.50</td>\n",
       "      <td>11.90</td>\n",
       "      <td>4.58</td>\n",
       "    </tr>\n",
       "    <tr>\n",
       "      <th>1</th>\n",
       "      <td>1</td>\n",
       "      <td>0.0</td>\n",
       "      <td>0.833333</td>\n",
       "      <td>9/2/14</td>\n",
       "      <td>228.90</td>\n",
       "      <td>29.02</td>\n",
       "      <td>31.64</td>\n",
       "      <td>29.57</td>\n",
       "      <td>30.73</td>\n",
       "      <td>29.71</td>\n",
       "      <td>...</td>\n",
       "      <td>-21.13</td>\n",
       "      <td>-36.57</td>\n",
       "      <td>8.77</td>\n",
       "      <td>21.17</td>\n",
       "      <td>4.44</td>\n",
       "      <td>48.60</td>\n",
       "      <td>27.41</td>\n",
       "      <td>-23.77</td>\n",
       "      <td>15.44</td>\n",
       "      <td>3.42</td>\n",
       "    </tr>\n",
       "    <tr>\n",
       "      <th>2</th>\n",
       "      <td>2</td>\n",
       "      <td>0.0</td>\n",
       "      <td>0.833333</td>\n",
       "      <td>9/3/14</td>\n",
       "      <td>220.69</td>\n",
       "      <td>29.02</td>\n",
       "      <td>31.64</td>\n",
       "      <td>29.57</td>\n",
       "      <td>30.73</td>\n",
       "      <td>29.71</td>\n",
       "      <td>...</td>\n",
       "      <td>-10.72</td>\n",
       "      <td>-34.16</td>\n",
       "      <td>6.99</td>\n",
       "      <td>32.16</td>\n",
       "      <td>5.01</td>\n",
       "      <td>48.53</td>\n",
       "      <td>19.21</td>\n",
       "      <td>-33.16</td>\n",
       "      <td>15.11</td>\n",
       "      <td>4.82</td>\n",
       "    </tr>\n",
       "    <tr>\n",
       "      <th>3</th>\n",
       "      <td>3</td>\n",
       "      <td>0.0</td>\n",
       "      <td>0.833333</td>\n",
       "      <td>9/4/14</td>\n",
       "      <td>225.28</td>\n",
       "      <td>29.02</td>\n",
       "      <td>31.64</td>\n",
       "      <td>29.57</td>\n",
       "      <td>30.73</td>\n",
       "      <td>29.71</td>\n",
       "      <td>...</td>\n",
       "      <td>0.33</td>\n",
       "      <td>-31.04</td>\n",
       "      <td>6.17</td>\n",
       "      <td>39.66</td>\n",
       "      <td>-1.41</td>\n",
       "      <td>50.59</td>\n",
       "      <td>8.29</td>\n",
       "      <td>-37.22</td>\n",
       "      <td>18.24</td>\n",
       "      <td>9.74</td>\n",
       "    </tr>\n",
       "    <tr>\n",
       "      <th>4</th>\n",
       "      <td>4</td>\n",
       "      <td>0.0</td>\n",
       "      <td>0.833333</td>\n",
       "      <td>9/5/14</td>\n",
       "      <td>237.24</td>\n",
       "      <td>29.02</td>\n",
       "      <td>31.64</td>\n",
       "      <td>29.57</td>\n",
       "      <td>30.73</td>\n",
       "      <td>29.71</td>\n",
       "      <td>...</td>\n",
       "      <td>9.83</td>\n",
       "      <td>-31.80</td>\n",
       "      <td>7.47</td>\n",
       "      <td>38.62</td>\n",
       "      <td>-5.21</td>\n",
       "      <td>54.73</td>\n",
       "      <td>-2.58</td>\n",
       "      <td>-42.30</td>\n",
       "      <td>21.91</td>\n",
       "      <td>10.95</td>\n",
       "    </tr>\n",
       "  </tbody>\n",
       "</table>\n",
       "<p>5 rows × 246 columns</p>\n",
       "</div>"
      ],
      "text/plain": [
       "   index  lat       lon startdate  contest-pevpr-sfc-gauss-14d__pevpr  \\\n",
       "0      0  0.0  0.833333    9/1/14                              237.00   \n",
       "1      1  0.0  0.833333    9/2/14                              228.90   \n",
       "2      2  0.0  0.833333    9/3/14                              220.69   \n",
       "3      3  0.0  0.833333    9/4/14                              225.28   \n",
       "4      4  0.0  0.833333    9/5/14                              237.24   \n",
       "\n",
       "   nmme0-tmp2m-34w__cancm30  nmme0-tmp2m-34w__cancm40  \\\n",
       "0                     29.02                     31.64   \n",
       "1                     29.02                     31.64   \n",
       "2                     29.02                     31.64   \n",
       "3                     29.02                     31.64   \n",
       "4                     29.02                     31.64   \n",
       "\n",
       "   nmme0-tmp2m-34w__ccsm30  nmme0-tmp2m-34w__ccsm40  nmme0-tmp2m-34w__cfsv20  \\\n",
       "0                    29.57                    30.73                    29.71   \n",
       "1                    29.57                    30.73                    29.71   \n",
       "2                    29.57                    30.73                    29.71   \n",
       "3                    29.57                    30.73                    29.71   \n",
       "4                    29.57                    30.73                    29.71   \n",
       "\n",
       "   ...  wind-vwnd-925-2010-11  wind-vwnd-925-2010-12  wind-vwnd-925-2010-13  \\\n",
       "0  ...                 -27.68                 -37.21                   8.32   \n",
       "1  ...                 -21.13                 -36.57                   8.77   \n",
       "2  ...                 -10.72                 -34.16                   6.99   \n",
       "3  ...                   0.33                 -31.04                   6.17   \n",
       "4  ...                   9.83                 -31.80                   7.47   \n",
       "\n",
       "   wind-vwnd-925-2010-14  wind-vwnd-925-2010-15  wind-vwnd-925-2010-16  \\\n",
       "0                   9.56                  -2.03                  48.13   \n",
       "1                  21.17                   4.44                  48.60   \n",
       "2                  32.16                   5.01                  48.53   \n",
       "3                  39.66                  -1.41                  50.59   \n",
       "4                  38.62                  -5.21                  54.73   \n",
       "\n",
       "   wind-vwnd-925-2010-17  wind-vwnd-925-2010-18  wind-vwnd-925-2010-19  \\\n",
       "0                  28.09                 -13.50                  11.90   \n",
       "1                  27.41                 -23.77                  15.44   \n",
       "2                  19.21                 -33.16                  15.11   \n",
       "3                   8.29                 -37.22                  18.24   \n",
       "4                  -2.58                 -42.30                  21.91   \n",
       "\n",
       "   wind-vwnd-925-2010-20  \n",
       "0                   4.58  \n",
       "1                   3.42  \n",
       "2                   4.82  \n",
       "3                   9.74  \n",
       "4                  10.95  \n",
       "\n",
       "[5 rows x 246 columns]"
      ]
     },
     "execution_count": 4,
     "metadata": {},
     "output_type": "execute_result"
    }
   ],
   "source": [
    "train.head()"
   ]
  },
  {
   "cell_type": "code",
   "execution_count": 6,
   "metadata": {},
   "outputs": [
    {
     "data": {
      "text/plain": [
       "Index(['index', 'lat', 'lon', 'startdate',\n",
       "       'contest-pevpr-sfc-gauss-14d__pevpr', 'nmme0-tmp2m-34w__cancm30',\n",
       "       'nmme0-tmp2m-34w__cancm40', 'nmme0-tmp2m-34w__ccsm30',\n",
       "       'nmme0-tmp2m-34w__ccsm40', 'nmme0-tmp2m-34w__cfsv20',\n",
       "       ...\n",
       "       'wind-vwnd-925-2010-11', 'wind-vwnd-925-2010-12',\n",
       "       'wind-vwnd-925-2010-13', 'wind-vwnd-925-2010-14',\n",
       "       'wind-vwnd-925-2010-15', 'wind-vwnd-925-2010-16',\n",
       "       'wind-vwnd-925-2010-17', 'wind-vwnd-925-2010-18',\n",
       "       'wind-vwnd-925-2010-19', 'wind-vwnd-925-2010-20'],\n",
       "      dtype='object', length=246)"
      ]
     },
     "execution_count": 6,
     "metadata": {},
     "output_type": "execute_result"
    }
   ],
   "source": [
    "#Display the coulmn names\n",
    "train.columns"
   ]
  },
  {
   "cell_type": "code",
   "execution_count": 8,
   "metadata": {},
   "outputs": [
    {
     "data": {
      "text/plain": [
       "(375734, 246)"
      ]
     },
     "execution_count": 8,
     "metadata": {},
     "output_type": "execute_result"
    }
   ],
   "source": [
    "train.shape"
   ]
  },
  {
   "cell_type": "markdown",
   "metadata": {},
   "source": [
    "#### Check for null values"
   ]
  },
  {
   "cell_type": "code",
   "execution_count": 14,
   "metadata": {},
   "outputs": [
    {
     "data": {
      "text/plain": [
       "nmme0-tmp2m-34w__ccsm30    15934\n",
       "nmme-tmp2m-56w__ccsm3      10280\n",
       "nmme-prate-34w__ccsm3       8738\n",
       "nmme0-prate-56w__ccsm30    15934\n",
       "nmme0-prate-34w__ccsm30    15934\n",
       "nmme-prate-56w__ccsm3      10280\n",
       "nmme-tmp2m-34w__ccsm3       8738\n",
       "ccsm30                     15934\n",
       "dtype: int64"
      ]
     },
     "execution_count": 14,
     "metadata": {},
     "output_type": "execute_result"
    }
   ],
   "source": [
    "#Check for null values in dataframe\n",
    "null = train.isnull().sum()\n",
    "\n",
    "#Filter and display only the columns with null values\n",
    "null_columns = null[null>0]\n",
    "null_columns"
   ]
  },
  {
   "cell_type": "markdown",
   "metadata": {},
   "source": [
    "- **NMME**: North American Multi-Model Ensemble is a collection of physics-based forecast models from various modeling centers in North America.<br>\n",
    "- **nmme0-tmp2m-34w__ccsm30** : most recent monthly NMME model forecast for tmp2m from Cansip ccsm30 <br>\n",
    "- **nmme-tmp2m-56w__ccsm3**: weeks 5-6 weighted average of monthly NMME model - forecast for target variable contest-tmp2m-14d__tmp2m.<br>\n",
    "- **nmme-prate-34w__ccsm3**: weeks 3-4 weighted average of monthy NMME model forecasts for percipitation from Cansip ccsm3.<br>\n",
    "- **nmme0-prate-56w__ccsm30**:weeks 5-6 weighted average of most recent NMME model forecasts for precipitation.<br>\n",
    "- **nmme0-prate-34w__ccsm30** : weeks 3-4 weighted average of most recent monthly NMME model forecasts for precipitation.<br>\n",
    "- **nmme-prate-56w__ccsm3**: weeks 5-6 weighted average of most recent montly NMME model forecasts for precipitation.<br>\n",
    "- **nmme-tmp2m-34w__ccsm3** :weeks 3-4 weighted average of most recent monthly NMME model forecasts for target varible.<br>   \n",
    "- **ccsm30** - NMME model Cansip"
   ]
  },
  {
   "cell_type": "markdown",
   "metadata": {},
   "source": [
    "#### Check for duplicates"
   ]
  },
  {
   "cell_type": "code",
   "execution_count": 9,
   "metadata": {},
   "outputs": [
    {
     "data": {
      "text/plain": [
       "0"
      ]
     },
     "execution_count": 9,
     "metadata": {},
     "output_type": "execute_result"
    }
   ],
   "source": [
    "train.duplicated().sum()"
   ]
  },
  {
   "cell_type": "markdown",
   "metadata": {},
   "source": [
    "### Data Visualization"
   ]
  }
 ],
 "metadata": {
  "kernelspec": {
   "display_name": "Python 3",
   "language": "python",
   "name": "python3"
  },
  "language_info": {
   "codemirror_mode": {
    "name": "ipython",
    "version": 3
   },
   "file_extension": ".py",
   "mimetype": "text/x-python",
   "name": "python",
   "nbconvert_exporter": "python",
   "pygments_lexer": "ipython3",
   "version": "3.11.1"
  },
  "orig_nbformat": 4
 },
 "nbformat": 4,
 "nbformat_minor": 2
}
